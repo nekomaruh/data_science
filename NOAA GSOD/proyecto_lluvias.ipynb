{
 "metadata": {
  "language_info": {
   "codemirror_mode": {
    "name": "ipython",
    "version": 3
   },
   "file_extension": ".py",
   "mimetype": "text/x-python",
   "name": "python",
   "nbconvert_exporter": "python",
   "pygments_lexer": "ipython3",
   "version": "3.8.3-final"
  },
  "orig_nbformat": 2,
  "kernelspec": {
   "name": "python3",
   "display_name": "Python 3",
   "language": "python"
  }
 },
 "nbformat": 4,
 "nbformat_minor": 2,
 "cells": [
  {
   "cell_type": "code",
   "execution_count": 1,
   "metadata": {},
   "outputs": [],
   "source": [
    "import numpy as np\n",
    "import pandas as pd\n",
    "import scipy.stats as stats\n",
    "import matplotlib.pyplot as plt\n",
    "import sklearn\n",
    "import re\n",
    "import seaborn as sns"
   ]
  },
  {
   "cell_type": "code",
   "execution_count": 4,
   "metadata": {},
   "outputs": [
    {
     "output_type": "execute_result",
     "data": {
      "text/plain": [
       "                   NAME   LATITUDE   LONGITUDE  ELEVATION      DATE  DEWP  \\\n",
       "STATION                                                                     \n",
       "48303499999  ROI ET, TH  16.116761  103.773797     137.46  25.02.10  65.8   \n",
       "48303499999  ROI ET, TH  16.116761  103.773797     137.46  27.03.10  60.5   \n",
       "48303499999  ROI ET, TH  16.116761  103.773797     137.46  05.04.10  72.7   \n",
       "48303499999  ROI ET, TH  16.116761  103.773797     137.46  27.04.10  75.6   \n",
       "48303499999  ROI ET, TH  16.116761  103.773797     137.46  02.05.10  74.2   \n",
       "...                 ...        ...         ...        ...       ...   ...   \n",
       "48557699999   KRABI, TH   8.099117   98.986178      24.99  26.09.20  76.3   \n",
       "48557699999   KRABI, TH   8.099117   98.986178      24.99  27.09.20  74.7   \n",
       "48557699999   KRABI, TH   8.099117   98.986178      24.99  28.09.20  75.0   \n",
       "48557699999   KRABI, TH   8.099117   98.986178      24.99  29.09.20  76.3   \n",
       "48557699999   KRABI, TH   8.099117   98.986178      24.99  30.09.20  77.0   \n",
       "\n",
       "             FRSHTT   GUST    MAX   MIN  ...  WEEKDAY  MONTH  Y  Y+1  Y+2  \\\n",
       "STATION                                  ...                                \n",
       "48303499999       0  999.9   98.6  87.8  ...        5      2  0  NaN  NaN   \n",
       "48303499999       0  999.9   89.6  75.2  ...        7      3  0  NaN  NaN   \n",
       "48303499999       0  999.9  104.0  93.2  ...        2      4  0  NaN  NaN   \n",
       "48303499999       0  999.9   96.8  80.6  ...        3      4  0  NaN  NaN   \n",
       "48303499999       0  999.9   96.8  89.6  ...        1      5  0  NaN  NaN   \n",
       "...             ...    ...    ...   ...  ...      ...    ... ..  ...  ...   \n",
       "48557699999       0  999.9   89.6  75.2  ...        7      9  0  1.0  1.0   \n",
       "48557699999   10010  999.9   87.8  71.6  ...        1      9  1  1.0  1.0   \n",
       "48557699999   10000   28.0   82.4  73.4  ...        2      9  1  1.0  0.0   \n",
       "48557699999   10000  999.9   89.6  73.4  ...        3      9  1  0.0  NaN   \n",
       "48557699999       0  999.9   91.4  75.2  ...        4      9  0  NaN  NaN   \n",
       "\n",
       "             Y+3  Y+4  Y+5  Y+6  Y+7  \n",
       "STATION                               \n",
       "48303499999  NaN  NaN  NaN  NaN  NaN  \n",
       "48303499999  NaN  NaN  NaN  NaN  NaN  \n",
       "48303499999  NaN  NaN  NaN  NaN  NaN  \n",
       "48303499999  NaN  NaN  NaN  NaN  NaN  \n",
       "48303499999  NaN  NaN  NaN  NaN  NaN  \n",
       "...          ...  ...  ...  ...  ...  \n",
       "48557699999  1.0  0.0  NaN  NaN  NaN  \n",
       "48557699999  0.0  NaN  NaN  NaN  NaN  \n",
       "48557699999  NaN  NaN  NaN  NaN  NaN  \n",
       "48557699999  NaN  NaN  NaN  NaN  NaN  \n",
       "48557699999  NaN  NaN  NaN  NaN  NaN  \n",
       "\n",
       "[628918 rows x 28 columns]"
      ],
      "text/html": "<div>\n<style scoped>\n    .dataframe tbody tr th:only-of-type {\n        vertical-align: middle;\n    }\n\n    .dataframe tbody tr th {\n        vertical-align: top;\n    }\n\n    .dataframe thead th {\n        text-align: right;\n    }\n</style>\n<table border=\"1\" class=\"dataframe\">\n  <thead>\n    <tr style=\"text-align: right;\">\n      <th></th>\n      <th>NAME</th>\n      <th>LATITUDE</th>\n      <th>LONGITUDE</th>\n      <th>ELEVATION</th>\n      <th>DATE</th>\n      <th>DEWP</th>\n      <th>FRSHTT</th>\n      <th>GUST</th>\n      <th>MAX</th>\n      <th>MIN</th>\n      <th>...</th>\n      <th>WEEKDAY</th>\n      <th>MONTH</th>\n      <th>Y</th>\n      <th>Y+1</th>\n      <th>Y+2</th>\n      <th>Y+3</th>\n      <th>Y+4</th>\n      <th>Y+5</th>\n      <th>Y+6</th>\n      <th>Y+7</th>\n    </tr>\n    <tr>\n      <th>STATION</th>\n      <th></th>\n      <th></th>\n      <th></th>\n      <th></th>\n      <th></th>\n      <th></th>\n      <th></th>\n      <th></th>\n      <th></th>\n      <th></th>\n      <th></th>\n      <th></th>\n      <th></th>\n      <th></th>\n      <th></th>\n      <th></th>\n      <th></th>\n      <th></th>\n      <th></th>\n      <th></th>\n      <th></th>\n    </tr>\n  </thead>\n  <tbody>\n    <tr>\n      <th>48303499999</th>\n      <td>ROI ET, TH</td>\n      <td>16.116761</td>\n      <td>103.773797</td>\n      <td>137.46</td>\n      <td>25.02.10</td>\n      <td>65.8</td>\n      <td>0</td>\n      <td>999.9</td>\n      <td>98.6</td>\n      <td>87.8</td>\n      <td>...</td>\n      <td>5</td>\n      <td>2</td>\n      <td>0</td>\n      <td>NaN</td>\n      <td>NaN</td>\n      <td>NaN</td>\n      <td>NaN</td>\n      <td>NaN</td>\n      <td>NaN</td>\n      <td>NaN</td>\n    </tr>\n    <tr>\n      <th>48303499999</th>\n      <td>ROI ET, TH</td>\n      <td>16.116761</td>\n      <td>103.773797</td>\n      <td>137.46</td>\n      <td>27.03.10</td>\n      <td>60.5</td>\n      <td>0</td>\n      <td>999.9</td>\n      <td>89.6</td>\n      <td>75.2</td>\n      <td>...</td>\n      <td>7</td>\n      <td>3</td>\n      <td>0</td>\n      <td>NaN</td>\n      <td>NaN</td>\n      <td>NaN</td>\n      <td>NaN</td>\n      <td>NaN</td>\n      <td>NaN</td>\n      <td>NaN</td>\n    </tr>\n    <tr>\n      <th>48303499999</th>\n      <td>ROI ET, TH</td>\n      <td>16.116761</td>\n      <td>103.773797</td>\n      <td>137.46</td>\n      <td>05.04.10</td>\n      <td>72.7</td>\n      <td>0</td>\n      <td>999.9</td>\n      <td>104.0</td>\n      <td>93.2</td>\n      <td>...</td>\n      <td>2</td>\n      <td>4</td>\n      <td>0</td>\n      <td>NaN</td>\n      <td>NaN</td>\n      <td>NaN</td>\n      <td>NaN</td>\n      <td>NaN</td>\n      <td>NaN</td>\n      <td>NaN</td>\n    </tr>\n    <tr>\n      <th>48303499999</th>\n      <td>ROI ET, TH</td>\n      <td>16.116761</td>\n      <td>103.773797</td>\n      <td>137.46</td>\n      <td>27.04.10</td>\n      <td>75.6</td>\n      <td>0</td>\n      <td>999.9</td>\n      <td>96.8</td>\n      <td>80.6</td>\n      <td>...</td>\n      <td>3</td>\n      <td>4</td>\n      <td>0</td>\n      <td>NaN</td>\n      <td>NaN</td>\n      <td>NaN</td>\n      <td>NaN</td>\n      <td>NaN</td>\n      <td>NaN</td>\n      <td>NaN</td>\n    </tr>\n    <tr>\n      <th>48303499999</th>\n      <td>ROI ET, TH</td>\n      <td>16.116761</td>\n      <td>103.773797</td>\n      <td>137.46</td>\n      <td>02.05.10</td>\n      <td>74.2</td>\n      <td>0</td>\n      <td>999.9</td>\n      <td>96.8</td>\n      <td>89.6</td>\n      <td>...</td>\n      <td>1</td>\n      <td>5</td>\n      <td>0</td>\n      <td>NaN</td>\n      <td>NaN</td>\n      <td>NaN</td>\n      <td>NaN</td>\n      <td>NaN</td>\n      <td>NaN</td>\n      <td>NaN</td>\n    </tr>\n    <tr>\n      <th>...</th>\n      <td>...</td>\n      <td>...</td>\n      <td>...</td>\n      <td>...</td>\n      <td>...</td>\n      <td>...</td>\n      <td>...</td>\n      <td>...</td>\n      <td>...</td>\n      <td>...</td>\n      <td>...</td>\n      <td>...</td>\n      <td>...</td>\n      <td>...</td>\n      <td>...</td>\n      <td>...</td>\n      <td>...</td>\n      <td>...</td>\n      <td>...</td>\n      <td>...</td>\n      <td>...</td>\n    </tr>\n    <tr>\n      <th>48557699999</th>\n      <td>KRABI, TH</td>\n      <td>8.099117</td>\n      <td>98.986178</td>\n      <td>24.99</td>\n      <td>26.09.20</td>\n      <td>76.3</td>\n      <td>0</td>\n      <td>999.9</td>\n      <td>89.6</td>\n      <td>75.2</td>\n      <td>...</td>\n      <td>7</td>\n      <td>9</td>\n      <td>0</td>\n      <td>1.0</td>\n      <td>1.0</td>\n      <td>1.0</td>\n      <td>0.0</td>\n      <td>NaN</td>\n      <td>NaN</td>\n      <td>NaN</td>\n    </tr>\n    <tr>\n      <th>48557699999</th>\n      <td>KRABI, TH</td>\n      <td>8.099117</td>\n      <td>98.986178</td>\n      <td>24.99</td>\n      <td>27.09.20</td>\n      <td>74.7</td>\n      <td>10010</td>\n      <td>999.9</td>\n      <td>87.8</td>\n      <td>71.6</td>\n      <td>...</td>\n      <td>1</td>\n      <td>9</td>\n      <td>1</td>\n      <td>1.0</td>\n      <td>1.0</td>\n      <td>0.0</td>\n      <td>NaN</td>\n      <td>NaN</td>\n      <td>NaN</td>\n      <td>NaN</td>\n    </tr>\n    <tr>\n      <th>48557699999</th>\n      <td>KRABI, TH</td>\n      <td>8.099117</td>\n      <td>98.986178</td>\n      <td>24.99</td>\n      <td>28.09.20</td>\n      <td>75.0</td>\n      <td>10000</td>\n      <td>28.0</td>\n      <td>82.4</td>\n      <td>73.4</td>\n      <td>...</td>\n      <td>2</td>\n      <td>9</td>\n      <td>1</td>\n      <td>1.0</td>\n      <td>0.0</td>\n      <td>NaN</td>\n      <td>NaN</td>\n      <td>NaN</td>\n      <td>NaN</td>\n      <td>NaN</td>\n    </tr>\n    <tr>\n      <th>48557699999</th>\n      <td>KRABI, TH</td>\n      <td>8.099117</td>\n      <td>98.986178</td>\n      <td>24.99</td>\n      <td>29.09.20</td>\n      <td>76.3</td>\n      <td>10000</td>\n      <td>999.9</td>\n      <td>89.6</td>\n      <td>73.4</td>\n      <td>...</td>\n      <td>3</td>\n      <td>9</td>\n      <td>1</td>\n      <td>0.0</td>\n      <td>NaN</td>\n      <td>NaN</td>\n      <td>NaN</td>\n      <td>NaN</td>\n      <td>NaN</td>\n      <td>NaN</td>\n    </tr>\n    <tr>\n      <th>48557699999</th>\n      <td>KRABI, TH</td>\n      <td>8.099117</td>\n      <td>98.986178</td>\n      <td>24.99</td>\n      <td>30.09.20</td>\n      <td>77.0</td>\n      <td>0</td>\n      <td>999.9</td>\n      <td>91.4</td>\n      <td>75.2</td>\n      <td>...</td>\n      <td>4</td>\n      <td>9</td>\n      <td>0</td>\n      <td>NaN</td>\n      <td>NaN</td>\n      <td>NaN</td>\n      <td>NaN</td>\n      <td>NaN</td>\n      <td>NaN</td>\n      <td>NaN</td>\n    </tr>\n  </tbody>\n</table>\n<p>628918 rows × 28 columns</p>\n</div>"
     },
     "metadata": {},
     "execution_count": 4
    }
   ],
   "source": [
    "df = pd.read_csv(\"compiled_raw_y.csv\", index_col=0, header=0)\n",
    "df"
   ]
  },
  {
   "cell_type": "code",
   "execution_count": 7,
   "metadata": {},
   "outputs": [
    {
     "output_type": "execute_result",
     "data": {
      "text/plain": [
       "628918"
      ]
     },
     "metadata": {},
     "execution_count": 7
    }
   ],
   "source": [
    "cant_datos = df['NAME'].count()\n",
    "cant_datos"
   ]
  },
  {
   "cell_type": "code",
   "execution_count": 8,
   "metadata": {},
   "outputs": [
    {
     "output_type": "stream",
     "name": "stdout",
     "text": [
      "holiii\n"
     ]
    }
   ],
   "source": [
    "print(\"holiii\")"
   ]
  },
  {
   "cell_type": "code",
   "execution_count": null,
   "metadata": {},
   "outputs": [],
   "source": []
  }
 ]
}